{
 "cells": [
  {
   "cell_type": "markdown",
   "metadata": {},
   "source": [
    "# CS1340 Lab 5"
   ]
  },
  {
   "cell_type": "markdown",
   "metadata": {},
   "source": [
    "### In this lab, we will be using pandas and scikit-learn for stock price prediction. The packages will be used include numpy, pandas, pandas_datareader, matplotlib, scikit-learn. (You should have installed pandas_datareader from Lab 4)"
   ]
  },
  {
   "cell_type": "markdown",
   "metadata": {},
   "source": [
    "## Step one, inport all the packages "
   ]
  },
  {
   "cell_type": "code",
   "execution_count": 1,
   "metadata": {},
   "outputs": [],
   "source": [
    "import numpy as np\n",
    "import pandas as pd\n",
    "from pandas_datareader import data\n",
    "\n",
    "import matplotlib.pyplot as plt\n",
    "\n",
    "from sklearn.model_selection import train_test_split \n",
    "from sklearn.metrics import mean_squared_error, r2_score\n",
    "from sklearn.linear_model import LinearRegression\n",
    "from sklearn import metrics\n",
    "#from sklearn.model_selection import train_test_split X_train, X_test, y_train, y_test = train_test_split(X, y)\n",
    "from sklearn import neighbors\n",
    "\n",
    "# This following line will make the plot embedded in this notebook, instead of open a new window\n",
    "%matplotlib inline "
   ]
  },
  {
   "cell_type": "code",
   "execution_count": null,
   "metadata": {},
   "outputs": [],
   "source": []
  },
  {
   "cell_type": "markdown",
   "metadata": {},
   "source": [
    "## Step two, Data preparation"
   ]
  },
  {
   "cell_type": "code",
   "execution_count": 2,
   "metadata": {},
   "outputs": [
    {
     "data": {
      "text/html": [
       "<div>\n",
       "<style scoped>\n",
       "    .dataframe tbody tr th:only-of-type {\n",
       "        vertical-align: middle;\n",
       "    }\n",
       "\n",
       "    .dataframe tbody tr th {\n",
       "        vertical-align: top;\n",
       "    }\n",
       "\n",
       "    .dataframe thead th {\n",
       "        text-align: right;\n",
       "    }\n",
       "</style>\n",
       "<table border=\"1\" class=\"dataframe\">\n",
       "  <thead>\n",
       "    <tr style=\"text-align: right;\">\n",
       "      <th></th>\n",
       "      <th>High</th>\n",
       "      <th>Low</th>\n",
       "      <th>Open</th>\n",
       "      <th>Close</th>\n",
       "      <th>Volume</th>\n",
       "      <th>Adj Close</th>\n",
       "    </tr>\n",
       "    <tr>\n",
       "      <th>Date</th>\n",
       "      <th></th>\n",
       "      <th></th>\n",
       "      <th></th>\n",
       "      <th></th>\n",
       "      <th></th>\n",
       "      <th></th>\n",
       "    </tr>\n",
       "  </thead>\n",
       "  <tbody>\n",
       "    <tr>\n",
       "      <td>2010-01-04</td>\n",
       "      <td>313.579620</td>\n",
       "      <td>310.954468</td>\n",
       "      <td>312.304413</td>\n",
       "      <td>312.204773</td>\n",
       "      <td>3927000.0</td>\n",
       "      <td>312.204773</td>\n",
       "    </tr>\n",
       "    <tr>\n",
       "      <td>2010-01-05</td>\n",
       "      <td>312.747742</td>\n",
       "      <td>309.609497</td>\n",
       "      <td>312.418976</td>\n",
       "      <td>310.829926</td>\n",
       "      <td>6031900.0</td>\n",
       "      <td>310.829926</td>\n",
       "    </tr>\n",
       "    <tr>\n",
       "      <td>2010-01-06</td>\n",
       "      <td>311.761444</td>\n",
       "      <td>302.047852</td>\n",
       "      <td>311.761444</td>\n",
       "      <td>302.994293</td>\n",
       "      <td>7987100.0</td>\n",
       "      <td>302.994293</td>\n",
       "    </tr>\n",
       "    <tr>\n",
       "      <td>2010-01-07</td>\n",
       "      <td>303.861053</td>\n",
       "      <td>295.218445</td>\n",
       "      <td>303.562164</td>\n",
       "      <td>295.940735</td>\n",
       "      <td>12876600.0</td>\n",
       "      <td>295.940735</td>\n",
       "    </tr>\n",
       "    <tr>\n",
       "      <td>2010-01-08</td>\n",
       "      <td>300.498657</td>\n",
       "      <td>293.455048</td>\n",
       "      <td>294.894653</td>\n",
       "      <td>299.885956</td>\n",
       "      <td>9483900.0</td>\n",
       "      <td>299.885956</td>\n",
       "    </tr>\n",
       "  </tbody>\n",
       "</table>\n",
       "</div>"
      ],
      "text/plain": [
       "                  High         Low        Open       Close      Volume  \\\n",
       "Date                                                                     \n",
       "2010-01-04  313.579620  310.954468  312.304413  312.204773   3927000.0   \n",
       "2010-01-05  312.747742  309.609497  312.418976  310.829926   6031900.0   \n",
       "2010-01-06  311.761444  302.047852  311.761444  302.994293   7987100.0   \n",
       "2010-01-07  303.861053  295.218445  303.562164  295.940735  12876600.0   \n",
       "2010-01-08  300.498657  293.455048  294.894653  299.885956   9483900.0   \n",
       "\n",
       "             Adj Close  \n",
       "Date                    \n",
       "2010-01-04  312.204773  \n",
       "2010-01-05  310.829926  \n",
       "2010-01-06  302.994293  \n",
       "2010-01-07  295.940735  \n",
       "2010-01-08  299.885956  "
      ]
     },
     "execution_count": 2,
     "metadata": {},
     "output_type": "execute_result"
    }
   ],
   "source": [
    "# We would like all available data from 01/01/2000 until 12/31/2016.\n",
    "start_date = '2010-01-01'\n",
    "end_date = '2018-12-31'\n",
    "\n",
    "# stock_list = ['GOOG', 'AAPL', 'MSFT']\n",
    "\n",
    "goog_data = data.DataReader('GOOG', start=start_date, end=end_date,\n",
    "                       data_source='yahoo')\n",
    "goog_data.head()"
   ]
  },
  {
   "cell_type": "code",
   "execution_count": 3,
   "metadata": {},
   "outputs": [],
   "source": [
    "# Q1, Add two more columns into the dataframe goog_data, hl_pct and pct_change, they are caculated using the following\n",
    "# equations (10 points): \n",
    "# hl_pct = (high - low) / close * 100\n",
    "# pct_change = (close - open) / open * 100"
   ]
  },
  {
   "cell_type": "code",
   "execution_count": 4,
   "metadata": {},
   "outputs": [
    {
     "data": {
      "text/plain": [
       "<bound method NDFrame.head of                    High          Low         Open        Close      Volume  \\\n",
       "Date                                                                         \n",
       "2010-01-04   313.579620   310.954468   312.304413   312.204773   3927000.0   \n",
       "2010-01-05   312.747742   309.609497   312.418976   310.829926   6031900.0   \n",
       "2010-01-06   311.761444   302.047852   311.761444   302.994293   7987100.0   \n",
       "2010-01-07   303.861053   295.218445   303.562164   295.940735  12876600.0   \n",
       "2010-01-08   300.498657   293.455048   294.894653   299.885956   9483900.0   \n",
       "...                 ...          ...          ...          ...         ...   \n",
       "2018-12-24  1003.539978   970.109985   973.900024   976.219971   1590300.0   \n",
       "2018-12-26  1040.000000   983.000000   989.010010  1039.459961   2373300.0   \n",
       "2018-12-27  1043.890015   997.000000  1017.150024  1043.880005   2109800.0   \n",
       "2018-12-28  1055.560059  1033.099976  1049.619995  1037.079956   1414800.0   \n",
       "2018-12-31  1052.699951  1023.590027  1050.959961  1035.609985   1493300.0   \n",
       "\n",
       "              Adj Close  Pct_change    Hl_pct  \n",
       "Date                                           \n",
       "2010-01-04   312.204773    0.000084 -0.000003  \n",
       "2010-01-05   310.829926    0.000101 -0.000051  \n",
       "2010-01-06   302.994293    0.000321 -0.000281  \n",
       "2010-01-07   295.940735    0.000292 -0.000251  \n",
       "2010-01-08   299.885956    0.000235  0.000169  \n",
       "...                 ...         ...       ...  \n",
       "2018-12-24   976.219971    0.000342  0.000024  \n",
       "2018-12-26  1039.459961    0.000548  0.000510  \n",
       "2018-12-27  1043.880005    0.000449  0.000263  \n",
       "2018-12-28  1037.079956    0.000217 -0.000119  \n",
       "2018-12-31  1035.609985    0.000281 -0.000146  \n",
       "\n",
       "[2264 rows x 8 columns]>"
      ]
     },
     "execution_count": 4,
     "metadata": {},
     "output_type": "execute_result"
    }
   ],
   "source": [
    "goog_data['Pct_change'] = ((goog_data['High'] - goog_data['Low'])/(goog_data['Close']*100))\n",
    "goog_data['Hl_pct'] = ((goog_data['Close'] - goog_data['Open'])/(goog_data['Open']*100))\n",
    "goog_data.head"
   ]
  },
  {
   "cell_type": "code",
   "execution_count": 5,
   "metadata": {},
   "outputs": [],
   "source": [
    "# Q2, drop nan values (5 points)"
   ]
  },
  {
   "cell_type": "code",
   "execution_count": 6,
   "metadata": {},
   "outputs": [
    {
     "data": {
      "text/html": [
       "<div>\n",
       "<style scoped>\n",
       "    .dataframe tbody tr th:only-of-type {\n",
       "        vertical-align: middle;\n",
       "    }\n",
       "\n",
       "    .dataframe tbody tr th {\n",
       "        vertical-align: top;\n",
       "    }\n",
       "\n",
       "    .dataframe thead th {\n",
       "        text-align: right;\n",
       "    }\n",
       "</style>\n",
       "<table border=\"1\" class=\"dataframe\">\n",
       "  <thead>\n",
       "    <tr style=\"text-align: right;\">\n",
       "      <th></th>\n",
       "      <th>High</th>\n",
       "      <th>Low</th>\n",
       "      <th>Open</th>\n",
       "      <th>Close</th>\n",
       "      <th>Volume</th>\n",
       "      <th>Adj Close</th>\n",
       "      <th>Pct_change</th>\n",
       "      <th>Hl_pct</th>\n",
       "    </tr>\n",
       "    <tr>\n",
       "      <th>Date</th>\n",
       "      <th></th>\n",
       "      <th></th>\n",
       "      <th></th>\n",
       "      <th></th>\n",
       "      <th></th>\n",
       "      <th></th>\n",
       "      <th></th>\n",
       "      <th></th>\n",
       "    </tr>\n",
       "  </thead>\n",
       "  <tbody>\n",
       "    <tr>\n",
       "      <td>2010-01-04</td>\n",
       "      <td>313.579620</td>\n",
       "      <td>310.954468</td>\n",
       "      <td>312.304413</td>\n",
       "      <td>312.204773</td>\n",
       "      <td>3927000.0</td>\n",
       "      <td>312.204773</td>\n",
       "      <td>0.000084</td>\n",
       "      <td>-0.000003</td>\n",
       "    </tr>\n",
       "    <tr>\n",
       "      <td>2010-01-05</td>\n",
       "      <td>312.747742</td>\n",
       "      <td>309.609497</td>\n",
       "      <td>312.418976</td>\n",
       "      <td>310.829926</td>\n",
       "      <td>6031900.0</td>\n",
       "      <td>310.829926</td>\n",
       "      <td>0.000101</td>\n",
       "      <td>-0.000051</td>\n",
       "    </tr>\n",
       "    <tr>\n",
       "      <td>2010-01-06</td>\n",
       "      <td>311.761444</td>\n",
       "      <td>302.047852</td>\n",
       "      <td>311.761444</td>\n",
       "      <td>302.994293</td>\n",
       "      <td>7987100.0</td>\n",
       "      <td>302.994293</td>\n",
       "      <td>0.000321</td>\n",
       "      <td>-0.000281</td>\n",
       "    </tr>\n",
       "    <tr>\n",
       "      <td>2010-01-07</td>\n",
       "      <td>303.861053</td>\n",
       "      <td>295.218445</td>\n",
       "      <td>303.562164</td>\n",
       "      <td>295.940735</td>\n",
       "      <td>12876600.0</td>\n",
       "      <td>295.940735</td>\n",
       "      <td>0.000292</td>\n",
       "      <td>-0.000251</td>\n",
       "    </tr>\n",
       "    <tr>\n",
       "      <td>2010-01-08</td>\n",
       "      <td>300.498657</td>\n",
       "      <td>293.455048</td>\n",
       "      <td>294.894653</td>\n",
       "      <td>299.885956</td>\n",
       "      <td>9483900.0</td>\n",
       "      <td>299.885956</td>\n",
       "      <td>0.000235</td>\n",
       "      <td>0.000169</td>\n",
       "    </tr>\n",
       "    <tr>\n",
       "      <td>...</td>\n",
       "      <td>...</td>\n",
       "      <td>...</td>\n",
       "      <td>...</td>\n",
       "      <td>...</td>\n",
       "      <td>...</td>\n",
       "      <td>...</td>\n",
       "      <td>...</td>\n",
       "      <td>...</td>\n",
       "    </tr>\n",
       "    <tr>\n",
       "      <td>2018-12-24</td>\n",
       "      <td>1003.539978</td>\n",
       "      <td>970.109985</td>\n",
       "      <td>973.900024</td>\n",
       "      <td>976.219971</td>\n",
       "      <td>1590300.0</td>\n",
       "      <td>976.219971</td>\n",
       "      <td>0.000342</td>\n",
       "      <td>0.000024</td>\n",
       "    </tr>\n",
       "    <tr>\n",
       "      <td>2018-12-26</td>\n",
       "      <td>1040.000000</td>\n",
       "      <td>983.000000</td>\n",
       "      <td>989.010010</td>\n",
       "      <td>1039.459961</td>\n",
       "      <td>2373300.0</td>\n",
       "      <td>1039.459961</td>\n",
       "      <td>0.000548</td>\n",
       "      <td>0.000510</td>\n",
       "    </tr>\n",
       "    <tr>\n",
       "      <td>2018-12-27</td>\n",
       "      <td>1043.890015</td>\n",
       "      <td>997.000000</td>\n",
       "      <td>1017.150024</td>\n",
       "      <td>1043.880005</td>\n",
       "      <td>2109800.0</td>\n",
       "      <td>1043.880005</td>\n",
       "      <td>0.000449</td>\n",
       "      <td>0.000263</td>\n",
       "    </tr>\n",
       "    <tr>\n",
       "      <td>2018-12-28</td>\n",
       "      <td>1055.560059</td>\n",
       "      <td>1033.099976</td>\n",
       "      <td>1049.619995</td>\n",
       "      <td>1037.079956</td>\n",
       "      <td>1414800.0</td>\n",
       "      <td>1037.079956</td>\n",
       "      <td>0.000217</td>\n",
       "      <td>-0.000119</td>\n",
       "    </tr>\n",
       "    <tr>\n",
       "      <td>2018-12-31</td>\n",
       "      <td>1052.699951</td>\n",
       "      <td>1023.590027</td>\n",
       "      <td>1050.959961</td>\n",
       "      <td>1035.609985</td>\n",
       "      <td>1493300.0</td>\n",
       "      <td>1035.609985</td>\n",
       "      <td>0.000281</td>\n",
       "      <td>-0.000146</td>\n",
       "    </tr>\n",
       "  </tbody>\n",
       "</table>\n",
       "<p>2264 rows × 8 columns</p>\n",
       "</div>"
      ],
      "text/plain": [
       "                   High          Low         Open        Close      Volume  \\\n",
       "Date                                                                         \n",
       "2010-01-04   313.579620   310.954468   312.304413   312.204773   3927000.0   \n",
       "2010-01-05   312.747742   309.609497   312.418976   310.829926   6031900.0   \n",
       "2010-01-06   311.761444   302.047852   311.761444   302.994293   7987100.0   \n",
       "2010-01-07   303.861053   295.218445   303.562164   295.940735  12876600.0   \n",
       "2010-01-08   300.498657   293.455048   294.894653   299.885956   9483900.0   \n",
       "...                 ...          ...          ...          ...         ...   \n",
       "2018-12-24  1003.539978   970.109985   973.900024   976.219971   1590300.0   \n",
       "2018-12-26  1040.000000   983.000000   989.010010  1039.459961   2373300.0   \n",
       "2018-12-27  1043.890015   997.000000  1017.150024  1043.880005   2109800.0   \n",
       "2018-12-28  1055.560059  1033.099976  1049.619995  1037.079956   1414800.0   \n",
       "2018-12-31  1052.699951  1023.590027  1050.959961  1035.609985   1493300.0   \n",
       "\n",
       "              Adj Close  Pct_change    Hl_pct  \n",
       "Date                                           \n",
       "2010-01-04   312.204773    0.000084 -0.000003  \n",
       "2010-01-05   310.829926    0.000101 -0.000051  \n",
       "2010-01-06   302.994293    0.000321 -0.000281  \n",
       "2010-01-07   295.940735    0.000292 -0.000251  \n",
       "2010-01-08   299.885956    0.000235  0.000169  \n",
       "...                 ...         ...       ...  \n",
       "2018-12-24   976.219971    0.000342  0.000024  \n",
       "2018-12-26  1039.459961    0.000548  0.000510  \n",
       "2018-12-27  1043.880005    0.000449  0.000263  \n",
       "2018-12-28  1037.079956    0.000217 -0.000119  \n",
       "2018-12-31  1035.609985    0.000281 -0.000146  \n",
       "\n",
       "[2264 rows x 8 columns]"
      ]
     },
     "execution_count": 6,
     "metadata": {},
     "output_type": "execute_result"
    }
   ],
   "source": [
    "goog_data.dropna()"
   ]
  },
  {
   "cell_type": "code",
   "execution_count": 7,
   "metadata": {},
   "outputs": [],
   "source": [
    "# Q3, Create X_train, y_train, X_test and y_test.  (30 points)\n",
    "# \n",
    "# We will be using the last 1% data for testing. \n",
    "# We will be only using three features here, 'Volumn', 'hl_pct' and 'pct_change' to predict the target, 'Adj Close'\n",
    "# Since its a prediction task, we will always be using the data from day t to \n",
    "# predict the target 'Adj Close' on day t + 1. For example: If we have the values for 'Volume', 'hl_pct' and 'pct_change'\n",
    "# for 2010-01-05, we will use that data to predict the 'Adj Close' price on 2010-01-06\n",
    "# You may also want do some scale on the data\n",
    "# Hints: preprocessing.scale, shift. "
   ]
  },
  {
   "cell_type": "code",
   "execution_count": 8,
   "metadata": {
    "scrolled": true
   },
   "outputs": [
    {
     "data": {
      "text/html": [
       "<div>\n",
       "<style scoped>\n",
       "    .dataframe tbody tr th:only-of-type {\n",
       "        vertical-align: middle;\n",
       "    }\n",
       "\n",
       "    .dataframe tbody tr th {\n",
       "        vertical-align: top;\n",
       "    }\n",
       "\n",
       "    .dataframe thead th {\n",
       "        text-align: right;\n",
       "    }\n",
       "</style>\n",
       "<table border=\"1\" class=\"dataframe\">\n",
       "  <thead>\n",
       "    <tr style=\"text-align: right;\">\n",
       "      <th></th>\n",
       "      <th>Volume</th>\n",
       "      <th>Hl_pct</th>\n",
       "      <th>Pct_change</th>\n",
       "    </tr>\n",
       "    <tr>\n",
       "      <th>Date</th>\n",
       "      <th></th>\n",
       "      <th></th>\n",
       "      <th></th>\n",
       "    </tr>\n",
       "  </thead>\n",
       "  <tbody>\n",
       "    <tr>\n",
       "      <td>2018-11-26</td>\n",
       "      <td>1942800.0</td>\n",
       "      <td>0.000099</td>\n",
       "      <td>0.000147</td>\n",
       "    </tr>\n",
       "    <tr>\n",
       "      <td>2018-11-27</td>\n",
       "      <td>1803200.0</td>\n",
       "      <td>0.000033</td>\n",
       "      <td>0.000183</td>\n",
       "    </tr>\n",
       "    <tr>\n",
       "      <td>2018-11-28</td>\n",
       "      <td>2475400.0</td>\n",
       "      <td>0.000357</td>\n",
       "      <td>0.000470</td>\n",
       "    </tr>\n",
       "    <tr>\n",
       "      <td>2018-11-29</td>\n",
       "      <td>1468900.0</td>\n",
       "      <td>0.000114</td>\n",
       "      <td>0.000168</td>\n",
       "    </tr>\n",
       "    <tr>\n",
       "      <td>2018-11-30</td>\n",
       "      <td>2580200.0</td>\n",
       "      <td>0.000049</td>\n",
       "      <td>0.000162</td>\n",
       "    </tr>\n",
       "  </tbody>\n",
       "</table>\n",
       "</div>"
      ],
      "text/plain": [
       "               Volume    Hl_pct  Pct_change\n",
       "Date                                       \n",
       "2018-11-26  1942800.0  0.000099    0.000147\n",
       "2018-11-27  1803200.0  0.000033    0.000183\n",
       "2018-11-28  2475400.0  0.000357    0.000470\n",
       "2018-11-29  1468900.0  0.000114    0.000168\n",
       "2018-11-30  2580200.0  0.000049    0.000162"
      ]
     },
     "execution_count": 8,
     "metadata": {},
     "output_type": "execute_result"
    }
   ],
   "source": [
    "#create future matrix\n",
    "#target vector\n",
    "y = goog_data['Adj Close'].shift(-1).dropna()\n",
    "x1 = goog_data.loc[:,('Volume', 'Hl_pct', 'Pct_change')]\n",
    "x = x1.drop(x1.tail(1).index)\n",
    "x_train, x_test, y_train, y_test = train_test_split(x, y, test_size=0.01, shuffle=False)\n",
    "x_test.head()"
   ]
  },
  {
   "cell_type": "markdown",
   "metadata": {},
   "source": [
    "## Step three,  Create Models"
   ]
  },
  {
   "cell_type": "code",
   "execution_count": 9,
   "metadata": {},
   "outputs": [],
   "source": [
    "# Q4, Import LinearRegression and K-Nearest Neighbor model from scikit-learn (5 points)"
   ]
  },
  {
   "cell_type": "code",
   "execution_count": 10,
   "metadata": {},
   "outputs": [],
   "source": [
    "#See step one of lab to see imported packages"
   ]
  },
  {
   "cell_type": "code",
   "execution_count": 11,
   "metadata": {},
   "outputs": [],
   "source": [
    "# Q5, Fit the LinearRegression and K-Nearest Neighbor model using X_train and y_train (10 points)"
   ]
  },
  {
   "cell_type": "code",
   "execution_count": 12,
   "metadata": {},
   "outputs": [],
   "source": [
    "lin_regression = LinearRegression()  \n",
    "RegressionModel = lin_regression.fit(x_train, y_train)\n",
    "knn = neighbors.KNeighborsRegressor(n_neighbors =1)\n",
    "KnnModel = knn.fit(x_train, y_train)"
   ]
  },
  {
   "cell_type": "code",
   "execution_count": 13,
   "metadata": {},
   "outputs": [],
   "source": [
    "# Q6, Make prediction using the above two model using X_test and save the results to y_predicted (10 points)"
   ]
  },
  {
   "cell_type": "code",
   "execution_count": 14,
   "metadata": {},
   "outputs": [
    {
     "name": "stdout",
     "output_type": "stream",
     "text": [
      "(array([672.45275391, 705.38138352, 877.20101629, 720.39118747,\n",
      "       637.52872045, 690.82652195, 890.2133462 , 790.24626096,\n",
      "       868.11927111, 747.94406715, 741.0477325 , 717.95840162,\n",
      "       777.91199553, 728.46708452, 845.04070628, 742.80547036,\n",
      "       901.04840262, 779.27306583, 737.22494403, 834.14268512,\n",
      "       945.76613614, 883.74009158, 750.71507534]), array([ 762.02001953,  645.44000244,  433.0418396 ,  559.01519775,\n",
      "        360.27459717,  559.34429932,  514.85021973,  444.66329956,\n",
      "       1092.25      ,  651.15997314,  762.48999023,  540.34649658,\n",
      "        932.16998291, 1202.94995117,  764.47998047,  514.01831055,\n",
      "        607.52783203,  628.        ,  249.10629272,  706.46002197,\n",
      "        351.82626343,  521.52001953,  748.2800293 ]))\n"
     ]
    }
   ],
   "source": [
    "y_predRegression = RegressionModel.predict(x_test)\n",
    "y_predKnn = KnnModel.predict(x_test)\n",
    "y_pred = y_predRegression, y_predKnn\n",
    "print(y_pred)"
   ]
  },
  {
   "cell_type": "markdown",
   "metadata": {},
   "source": [
    "## Step four, Evaluation"
   ]
  },
  {
   "cell_type": "code",
   "execution_count": 15,
   "metadata": {},
   "outputs": [],
   "source": [
    "# Q7, print the score for these two models (score method) and explain which model is better. (10 points)"
   ]
  },
  {
   "cell_type": "code",
   "execution_count": 16,
   "metadata": {
    "scrolled": true
   },
   "outputs": [
    {
     "name": "stdout",
     "output_type": "stream",
     "text": [
      "Linear Regression: -75.92062312237375\n",
      "KNN Model: -218.8120838108184\n",
      "Linear Regression: 77582.77902894706\n",
      "KNN Model: 221704.29247636657\n"
     ]
    }
   ],
   "source": [
    "R = r2_score(y_test, y_predRegression)\n",
    "K = r2_score(y_test, y_predKnn)\n",
    "R1 = metrics.mean_squared_error(y_test, y_predRegression)\n",
    "K1 = metrics.mean_squared_error(y_test, y_predKnn)\n",
    "print('Linear Regression:',R)\n",
    "print('KNN Model:', K)\n",
    "\n",
    "print('Linear Regression:', R1)\n",
    "print('KNN Model:', K1)\n",
    "#the linear regression model is better because it has a lower mse and an r^2 closer to 1."
   ]
  },
  {
   "cell_type": "code",
   "execution_count": 17,
   "metadata": {},
   "outputs": [],
   "source": [
    "# Q8, plot the 'Adj Close' price (y_train) together with the prediction (y_predicted)\n",
    "# from LinearRegression model. (10 points)"
   ]
  },
  {
   "cell_type": "code",
   "execution_count": 18,
   "metadata": {
    "scrolled": true
   },
   "outputs": [
    {
     "name": "stderr",
     "output_type": "stream",
     "text": [
      "C:\\Users\\pavlo\\Anaconda3\\lib\\site-packages\\pandas\\plotting\\_matplotlib\\converter.py:103: FutureWarning: Using an implicitly registered datetime converter for a matplotlib plotting method. The converter was registered by pandas on import. Future versions of pandas will require you to explicitly register matplotlib converters.\n",
      "\n",
      "To register the converters:\n",
      "\t>>> from pandas.plotting import register_matplotlib_converters\n",
      "\t>>> register_matplotlib_converters()\n",
      "  warnings.warn(msg, FutureWarning)\n"
     ]
    },
    {
     "data": {
      "text/plain": [
       "[<matplotlib.lines.Line2D at 0x1c8cd4ac788>]"
      ]
     },
     "execution_count": 18,
     "metadata": {},
     "output_type": "execute_result"
    },
    {
     "data": {
      "image/png": "[encoded data removed]",
      "text/plain": [
       "<Figure size 432x288 with 1 Axes>"
      ]
     },
     "metadata": {
      "needs_background": "light"
     },
     "output_type": "display_data"
    }
   ],
   "source": [
    "df = pd.DataFrame(y_predRegression, index=y_test.index) #convert y_predRegression to dataframe with date index\n",
    "plt.plot(y_train)\n",
    "plt.plot(df) "
   ]
  },
  {
   "cell_type": "code",
   "execution_count": 19,
   "metadata": {},
   "outputs": [],
   "source": [
    "# Q9, Pick another model (you pick), do the fitting, prediction and evaluation (10 points)"
   ]
  },
  {
   "cell_type": "code",
   "execution_count": 20,
   "metadata": {},
   "outputs": [
    {
     "name": "stdout",
     "output_type": "stream",
     "text": [
      "MSE: 70702.28397746352\n",
      "R^2 Score: -69.09885193326679\n"
     ]
    },
    {
     "name": "stderr",
     "output_type": "stream",
     "text": [
      "C:\\Users\\pavlo\\Anaconda3\\lib\\site-packages\\sklearn\\ensemble\\forest.py:245: FutureWarning: The default value of n_estimators will change from 10 in version 0.20 to 100 in 0.22.\n",
      "  \"10 in version 0.20 to 100 in 0.22.\", FutureWarning)\n"
     ]
    },
    {
     "data": {
      "text/plain": [
       "[<matplotlib.lines.Line2D at 0x1c8cde71b48>]"
      ]
     },
     "execution_count": 20,
     "metadata": {},
     "output_type": "execute_result"
    },
    {
     "data": {
      "image/png": "[encoded data removed]",
      "text/plain": [
       "<Figure size 432x288 with 1 Axes>"
      ]
     },
     "metadata": {
      "needs_background": "light"
     },
     "output_type": "display_data"
    }
   ],
   "source": [
    "from sklearn.ensemble import RandomForestRegressor\n",
    "from sklearn.datasets import make_regression\n",
    "Forest = RandomForestRegressor()\n",
    "ForestModel = Forest.fit(x_train, y_train)\n",
    "y_predForest = ForestModel.predict(x_test)\n",
    "F = r2_score(y_test, y_predForest)\n",
    "F1 = metrics.mean_squared_error(y_test, y_predForest)\n",
    "print('MSE:', F1)\n",
    "print('R^2 Score:', F)\n",
    "DfForest = pd.DataFrame(y_predForest, index=y_test.index)\n",
    "plt.plot(DfForest)\n",
    "plt.plot(y_train)"
   ]
  },
  {
   "cell_type": "code",
   "execution_count": null,
   "metadata": {},
   "outputs": [],
   "source": []
  }
 ],
 "metadata": {
  "kernelspec": {
   "display_name": "Python 3",
   "language": "python",
   "name": "python3"
  },
  "language_info": {
   "codemirror_mode": {
    "name": "ipython",
    "version": 3
   },
   "file_extension": ".py",
   "mimetype": "text/x-python",
   "name": "python",
   "nbconvert_exporter": "python",
   "pygments_lexer": "ipython3",
   "version": "3.7.4"
  }
 },
 "nbformat": 4,
 "nbformat_minor": 2
}
